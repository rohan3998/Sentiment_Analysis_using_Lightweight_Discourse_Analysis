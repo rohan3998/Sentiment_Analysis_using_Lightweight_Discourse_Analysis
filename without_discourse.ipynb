{
  "nbformat": 4,
  "nbformat_minor": 0,
  "metadata": {
    "colab": {
      "name": "without_discourse.ipynb",
      "provenance": []
    },
    "kernelspec": {
      "name": "python3",
      "display_name": "Python 3"
    }
  },
  "cells": [
    {
      "cell_type": "code",
      "metadata": {
        "id": "DbJv1wIAY0Y-"
      },
      "source": [
        "import numpy as np\n",
        "import pandas as pd\n",
        "import sklearn"
      ],
      "execution_count": 29,
      "outputs": []
    },
    {
      "cell_type": "markdown",
      "metadata": {
        "id": "0mGy1kYqxNtr"
      },
      "source": [
        "Import the restaurant review dataset"
      ]
    },
    {
      "cell_type": "code",
      "metadata": {
        "id": "XGboqKqVZVtW"
      },
      "source": [
        "dataset = pd.read_csv('Restaurant_Reviews.tsv', delimiter = '\\t', quoting = 3)"
      ],
      "execution_count": 30,
      "outputs": []
    },
    {
      "cell_type": "markdown",
      "metadata": {
        "id": "JOo9Cjl2zIoN"
      },
      "source": [
        "Preprocessing the text"
      ]
    },
    {
      "cell_type": "code",
      "metadata": {
        "colab": {
          "base_uri": "https://localhost:8080/"
        },
        "id": "XECDzn-7ZaxG",
        "outputId": "7e4ff336-14d1-4dea-a770-78b69bcbd9a0"
      },
      "source": [
        "import re\n",
        "import nltk\n",
        "nltk.download('stopwords')\n",
        "nltk.download('punkt')\n",
        "from nltk.corpus import stopwords\n",
        "from nltk.stem.porter import PorterStemmer\n",
        "corpus = []\n",
        "corpus_tokenised=[] \n",
        "###\n",
        "sentence='He was relaxed despite the danger'   # sentence of which sentiment has to be found\n",
        "###\n",
        "sentence = sentence.lower()       # lowercase\n",
        "sentence = re.sub('[^a-zA-Z]', ' ', sentence)\n",
        "sentence = sentence.split()\n",
        "ps = PorterStemmer()              # stemming\n",
        "sentence = [ps.stem(word) for word in sentence if not word in set(stopwords.words('english'))]        # removal of stopwords\n",
        "sentence = ' '.join(sentence)\n",
        "for i in range(0, 1000):          # the same preprocessing for dataset sentences\n",
        "    review = re.sub('[^a-zA-Z]', ' ', dataset['Review'][i])\n",
        "    review = review.lower()\n",
        "    review = review.split()\n",
        "    ps = PorterStemmer()\n",
        "    review = [ps.stem(word) for word in review if not word in set(stopwords.words('english'))]\n",
        "    review = ' '.join(review)\n",
        "    corpus.append(review)"
      ],
      "execution_count": 31,
      "outputs": [
        {
          "output_type": "stream",
          "text": [
            "[nltk_data] Downloading package stopwords to /root/nltk_data...\n",
            "[nltk_data]   Package stopwords is already up-to-date!\n",
            "[nltk_data] Downloading package punkt to /root/nltk_data...\n",
            "[nltk_data]   Package punkt is already up-to-date!\n"
          ],
          "name": "stdout"
        }
      ]
    },
    {
      "cell_type": "markdown",
      "metadata": {
        "id": "pMu8pjS7xzu5"
      },
      "source": [
        "Importing the bag of words vectorization module"
      ]
    },
    {
      "cell_type": "code",
      "metadata": {
        "id": "-8jNbqWvaWJv"
      },
      "source": [
        "from sklearn.feature_extraction.text import CountVectorizer\n",
        "cv = CountVectorizer(max_features = 1500)\n",
        "X = cv.fit_transform(corpus).toarray()\n",
        "y = dataset.iloc[:, 1].values"
      ],
      "execution_count": 32,
      "outputs": []
    },
    {
      "cell_type": "markdown",
      "metadata": {
        "id": "J56bNZLGx6Mw"
      },
      "source": [
        "Splitting into train and test"
      ]
    },
    {
      "cell_type": "code",
      "metadata": {
        "id": "rjcMmFX7bX0I"
      },
      "source": [
        "from sklearn.model_selection import train_test_split\n",
        "X_train, X_test, y_train, y_test = train_test_split(X, y, test_size = 0.1, random_state = 0)\n"
      ],
      "execution_count": 33,
      "outputs": []
    },
    {
      "cell_type": "markdown",
      "metadata": {
        "id": "cDhFDJJMx9fy"
      },
      "source": [
        "Adding few manually labelled sentences containing discourse relations due to unavailability of the discourse dataset"
      ]
    },
    {
      "cell_type": "code",
      "metadata": {
        "id": "fr6fT06_SsoJ"
      },
      "source": [
        "sentence_list_discourse = ['I am quite excited about Tintin despite not really liking the original comics',\n",
        "                           'If Micromax improved its battery life, it would have been a great product',\n",
        "                           'My daughter is off school very poorly but brightened up when we saw you on television today',\n",
        "                           'I do not like this house',\n",
        "                           'I was feeling happy throughout the day until I saw my marks which made me upset',\n",
        "                           'Rohan was very angry with his performance in spite of being the winner of the tournament',\n",
        "                           'You should be ashamed of yourself',\n",
        "                           'Tomorrow might be a better day for us',\n",
        "                           'Ram misbehaved with his boss and as a result, he lost his job',\n",
        "                           'You had no real knowledge and therefore no way to make a wise decision',\n",
        "                           'He gave his best effort yet failed in completing the task',\n",
        "                           'Rahul was never rude to anyone',\n",
        "                           'I was filled with joy until I heard about the sad news of him passing away despite being so young and active']\n",
        "                        \n",
        "label_list_discourse = [1,\n",
        "                        1,\n",
        "                        1,\n",
        "                        0,\n",
        "                        0,\n",
        "                        0,\n",
        "                        0,\n",
        "                        1,\n",
        "                        0,\n",
        "                        0,\n",
        "                        0,\n",
        "                        1,\n",
        "                        0]"
      ],
      "execution_count": 34,
      "outputs": []
    },
    {
      "cell_type": "code",
      "metadata": {
        "id": "VozYgJl1Sx1V"
      },
      "source": [
        "y_train=y_train.tolist()\n",
        "X_train = X_train.tolist()\n",
        "for sent in sentence_list_discourse:    #appending the above sentences into to the training set\n",
        "  rv=cv.transform([sent]).toarray()\n",
        "  \n",
        "  X_train.append(rv[0])\n",
        "\n",
        "for label in label_list_discourse:\n",
        "  y_train.append(label) \n"
      ],
      "execution_count": 35,
      "outputs": []
    },
    {
      "cell_type": "markdown",
      "metadata": {
        "id": "KIAIGUiUye4w"
      },
      "source": [
        "Using SVM to train the model"
      ]
    },
    {
      "cell_type": "code",
      "metadata": {
        "colab": {
          "base_uri": "https://localhost:8080/"
        },
        "id": "F-EOxfcfbZ4U",
        "outputId": "9e198fb6-c503-48d7-83e4-7eaef79a0b08"
      },
      "source": [
        "import time\n",
        "from sklearn import svm\n",
        "from sklearn.metrics import classification_report\n",
        "classifier_linear = svm.SVC(kernel='linear',probability=True)\n",
        "t0 = time.time()\n",
        "classifier_linear.fit(X_train, y_train)\n",
        "t1 = time.time()\n",
        "prediction_linear = classifier_linear.predict(X_test)\n",
        "prob = classifier_linear.predict_proba(X_test)\n",
        "#print(prob)\n",
        "#print(prediction_linear)\n",
        "t2 = time.time()\n",
        "time_linear_train = t1-t0\n",
        "time_linear_predict = t2-t1\n",
        "print(\"Training time: %fs; Prediction time: %fs\" % (time_linear_train, time_linear_predict))\n",
        "report = classification_report(y_test, prediction_linear, output_dict=True)\n",
        "print('positive: ', report['1'])\n",
        "print('negative: ', report['0'])"
      ],
      "execution_count": 36,
      "outputs": [
        {
          "output_type": "stream",
          "text": [
            "Training time: 8.091170s; Prediction time: 0.269671s\n",
            "positive:  {'precision': 0.7307692307692307, 'recall': 0.7755102040816326, 'f1-score': 0.7524752475247524, 'support': 49}\n",
            "negative:  {'precision': 0.7708333333333334, 'recall': 0.7254901960784313, 'f1-score': 0.7474747474747475, 'support': 51}\n"
          ],
          "name": "stdout"
        }
      ]
    },
    {
      "cell_type": "code",
      "metadata": {
        "id": "Puhtngn0ydRd"
      },
      "source": [
        "review_vector = cv.transform([sentence]).toarray()   # vectorising the test sentence"
      ],
      "execution_count": 37,
      "outputs": []
    },
    {
      "cell_type": "code",
      "metadata": {
        "colab": {
          "base_uri": "https://localhost:8080/"
        },
        "id": "H6F4sHAZdgjm",
        "outputId": "4cffa569-46a8-4da1-9f8a-2dc6b79cb7e0"
      },
      "source": [
        "print(classifier_linear.predict(review_vector))      # predicting the sentiment. 0 is negative and 1 is positive\n",
        "print(classifier_linear.predict_proba(review_vector)) # probability for each prediction. The first element depicts probabiltity for negative sentiment"
      ],
      "execution_count": 38,
      "outputs": [
        {
          "output_type": "stream",
          "text": [
            "[0]\n",
            "[[0.60087977 0.39912023]]\n"
          ],
          "name": "stdout"
        }
      ]
    }
  ]
}