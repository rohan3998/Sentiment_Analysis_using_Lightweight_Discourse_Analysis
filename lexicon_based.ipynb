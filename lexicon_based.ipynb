{
  "nbformat": 4,
  "nbformat_minor": 0,
  "metadata": {
    "colab": {
      "name": "lexicon_based.ipynb",
      "provenance": []
    },
    "kernelspec": {
      "name": "python3",
      "display_name": "Python 3"
    }
  },
  "cells": [
    {
      "cell_type": "markdown",
      "metadata": {
        "id": "FLykhdW1fOfl"
      },
      "source": [
        "Discourse relations"
      ]
    },
    {
      "cell_type": "code",
      "metadata": {
        "id": "2VzpORtKPg9h"
      },
      "source": [
        "Conj_Fol = ['but','however','nevertheless','otherwise','yet','still','nonetheless']\n",
        "Conj_Prev = ['till','until','despite','in spite','though','although']\n",
        "Conj_Infer = ['therefore','furthermore','consequently','thus','as a result','subsequently','eventually','hence']\n",
        "Conditionals = ['if']\n",
        "Strong_Mod = ['might','could','can','would','may']\n",
        "Weak_Mod = ['should','ought to','need not','shall','will','must']\n",
        "Neg = ['not','neither','never','no','nor']\n",
        "A = ['but','however','nevertheless','otherwise','yet','still','nonetheless','till','until','despite','in spite','though','although','therefore',\n",
        "'furthermore','consequently','thus','as a result','subsequently','eventually','hence','if','might','could','can','would','may','should','ought to','need not','shall','will','must',\n",
        "'not','neither','never','no','nor']\n",
        "\n",
        "Neg_window = 5"
      ],
      "execution_count": 2,
      "outputs": []
    },
    {
      "cell_type": "markdown",
      "metadata": {
        "id": "S7NJbyeufZVT"
      },
      "source": [
        "Initialise the sentence of which the polarity has to be found"
      ]
    },
    {
      "cell_type": "code",
      "metadata": {
        "colab": {
          "base_uri": "https://localhost:8080/"
        },
        "id": "gjBBabo4Q-_D",
        "outputId": "8d410483-d4a0-4257-c91f-9830f8ef8b3b"
      },
      "source": [
        "import nltk\n",
        "nltk.download('punkt')\n",
        "sentences=[\"I am happy, relaxed and want to enjoy life\"]         # sentence\n",
        "sentences_tokenised=[]                                           \n",
        "for sentence in sentences:                                       # tokenisation\n",
        "  sentence_tokenised=nltk.word_tokenize(sentence.lower())\n",
        "  sentences_tokenised.append(sentence_tokenised)\n",
        "\n",
        "\n"
      ],
      "execution_count": 3,
      "outputs": [
        {
          "output_type": "stream",
          "text": [
            "[nltk_data] Downloading package punkt to /root/nltk_data...\n",
            "[nltk_data]   Unzipping tokenizers/punkt.zip.\n"
          ],
          "name": "stdout"
        }
      ]
    },
    {
      "cell_type": "markdown",
      "metadata": {
        "id": "QcF6pgVhgBMw"
      },
      "source": [
        "Applying the discourse algorithm on the tokenised sentence"
      ]
    },
    {
      "cell_type": "code",
      "metadata": {
        "id": "5DolU3nYWyYZ"
      },
      "source": [
        "def discourse(sentence):                \n",
        "  fij = [1]*len(sentence)                # discourse features\n",
        "  hypij=[0]*len(sentence)\n",
        "  flipij=[1]*len(sentence)\n",
        "\n",
        "  for i,word in enumerate(sentence):\n",
        "    if (word in Conditionals) or (word in Strong_Mod):\n",
        "      hypij[i]=1\n",
        "\n",
        "    if (word in Conj_Fol) or (word in Conj_Infer) or (i<=len(sentence)-3 and sentence[i]=='as' and sentence[i+1]=='a' and sentence[i+2]=='result'):\n",
        "      for k in range(i+1,len(sentence)):\n",
        "        if (sentence[k] not in A):\n",
        "          fij[k]+=1\n",
        "\n",
        "    if (word in Conj_Prev) or (i<=len(sentence)-2 and sentence[i]=='in' and sentence[i+1]=='spite'):\n",
        "      for k in range(0,i):\n",
        "        if (sentence[k] not in A):\n",
        "          fij[k]+=1\n",
        "\n",
        "    if (word in Neg):\n",
        "      for k in range(1,Neg_window):\n",
        "        if (i+k<len(sentence)):\n",
        "          if (sentence[i+k] not in Conj_Prev) or (sentence[i+k] not in Conj_Fol):\n",
        "            flipij[i+k]=-1\n",
        "\n",
        "  return sentence,fij,flipij,hypij\n",
        "\n"
      ],
      "execution_count": 4,
      "outputs": []
    },
    {
      "cell_type": "markdown",
      "metadata": {
        "id": "B-PK0_RPhauz"
      },
      "source": [
        "importing the manually labelled words from bing liu Lexicon"
      ]
    },
    {
      "cell_type": "code",
      "metadata": {
        "id": "HDZoVBFBF99n"
      },
      "source": [
        "import csv\n",
        "\n",
        "crimefile = open('negative-words.txt', 'r')\n",
        "crimefile2 = open('positive-words.txt', 'r')\n",
        "reader = csv.reader(crimefile)\n",
        "reader2 = csv.reader(crimefile2)\n",
        "allRows = [row for row in reader]\n",
        "allRows2 = [row for row in reader2]\n",
        "\n",
        "positive=[]\n",
        "negative=[]\n",
        "\n",
        "for l in allRows:\n",
        "  negative.append(l[0])\n",
        "for l in allRows2:\n",
        "  positive.append(l[0])   "
      ],
      "execution_count": 5,
      "outputs": []
    },
    {
      "cell_type": "code",
      "metadata": {
        "id": "awR7Q_VtLH6Z"
      },
      "source": [
        "wij,fij,flipij,hypij = discourse(sentences_tokenised[0])\n",
        "#print(wij)\n",
        "#print(fij)\n",
        "#print(flipij)\n",
        "#print(hypij)"
      ],
      "execution_count": 6,
      "outputs": []
    },
    {
      "cell_type": "markdown",
      "metadata": {
        "id": "MasIOBHqiUqj"
      },
      "source": [
        "Applying the sum product formula to calculate the polarity"
      ]
    },
    {
      "cell_type": "code",
      "metadata": {
        "colab": {
          "base_uri": "https://localhost:8080/"
        },
        "id": "8HNNvRJ2Lv7F",
        "outputId": "82f51e50-5722-4ed4-ce3e-7fa0e3ec0c6b"
      },
      "source": [
        "hyp_present=0                   #presence of strong modal or conditional                                     \n",
        "for ele in hypij:\n",
        "  if(ele==1):\n",
        "    hyp_present=1\n",
        "    break\n",
        "\n",
        "sum=0\n",
        "for i in range(len(wij)):\n",
        "  if (wij[i] in negative):\n",
        "    if (hyp_present==0):\n",
        "      sum=sum+fij[i]*flipij[i]*(-1)\n",
        "    else:\n",
        "      sum=sum+(fij[i]*flipij[i]*(-1))/2  \n",
        "\n",
        "  if (wij[i] in positive) :\n",
        "    if (hyp_present==0):\n",
        "      sum=sum+fij[i]*flipij[i]*(1)\n",
        "    else:\n",
        "      sum=sum+(fij[i]*flipij[i]*(1))/2\n",
        "\n",
        "\n",
        "print(sum)      \n",
        "\n",
        "\n"
      ],
      "execution_count": 7,
      "outputs": [
        {
          "output_type": "stream",
          "text": [
            "3\n"
          ],
          "name": "stdout"
        }
      ]
    }
  ]
}