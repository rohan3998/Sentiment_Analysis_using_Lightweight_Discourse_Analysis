{
  "nbformat": 4,
  "nbformat_minor": 0,
  "metadata": {
    "colab": {
      "name": "with_discourse.ipynb",
      "provenance": [],
      "collapsed_sections": []
    },
    "kernelspec": {
      "name": "python3",
      "display_name": "Python 3"
    }
  },
  "cells": [
    {
      "cell_type": "code",
      "metadata": {
        "id": "Z1J9w_8VVpkI"
      },
      "source": [
        "import numpy as np\n",
        "import pandas as pd\n",
        "import sklearn"
      ],
      "execution_count": 14,
      "outputs": []
    },
    {
      "cell_type": "markdown",
      "metadata": {
        "id": "uSBAfjlUzVAU"
      },
      "source": [
        "Discourse relations"
      ]
    },
    {
      "cell_type": "code",
      "metadata": {
        "id": "6O1Ug573n1xj"
      },
      "source": [
        "Conj_Fol = ['but','however','nevertheless','otherwise','yet','still','nonetheless']\n",
        "Conj_Prev = ['till','until','despite','in spite','though','although']\n",
        "Conj_Infer = ['therefore','furthermore','consequently','thus','as a result','subsequently','eventually','hence']\n",
        "Conditionals = ['if']\n",
        "Strong_Mod = ['might','could','can','would','may']\n",
        "Weak_Mod = ['should','ought to','need not','shall','will','must']\n",
        "Neg = ['not','neither','never','no','nor']\n",
        "A = ['but','however','nevertheless','otherwise','yet','still','nonetheless','till','until','despite','in spite','though','although','therefore',\n",
        "'furthermore','consequently','thus','as a result','subsequently','eventually','hence','if','might','could','can','would','may','should','ought to','need not','shall','will','must',\n",
        "'not','neither','never','no','nor']\n",
        "\n",
        "Neg_window = 5"
      ],
      "execution_count": 15,
      "outputs": []
    },
    {
      "cell_type": "markdown",
      "metadata": {
        "id": "sDhUQGnCzaCx"
      },
      "source": [
        "Applying the discourse algorithm on the tokenised sentence"
      ]
    },
    {
      "cell_type": "code",
      "metadata": {
        "id": "OM6fYHador1f"
      },
      "source": [
        "def discourse(sentence):\n",
        "  fij = [1]*len(sentence)\n",
        "  hypij=[0]*len(sentence)\n",
        "  flipij=[1]*len(sentence)\n",
        "\n",
        "  for i,word in enumerate(sentence):\n",
        "    if (word in Conditionals) or (word in Strong_Mod):\n",
        "      hypij[i]=1\n",
        "\n",
        "    if (word in Conj_Fol) or (word in Conj_Infer) or (i<=len(sentence)-3 and sentence[i]=='as' and sentence[i+1]=='a' and sentence[i+2]=='result'):\n",
        "      for k in range(i+1,len(sentence)):\n",
        "        if (sentence[k] not in A):\n",
        "          fij[k]+=1\n",
        "\n",
        "    if (word in Conj_Prev) or (i<=len(sentence)-2 and sentence[i]=='in' and sentence[i+1]=='spite'):\n",
        "      for k in range(0,i):\n",
        "        if (sentence[k] not in A):\n",
        "          fij[k]+=1\n",
        "\n",
        "    if (word in Neg):\n",
        "      for k in range(1,Neg_window):\n",
        "        if (i+k<len(sentence)):\n",
        "          if (sentence[i+k] in Conj_Prev) or (sentence[i+k] in Conj_Fol):\n",
        "            break\n",
        "          else:  \n",
        "            flipij[i+k]=-1\n",
        "\n",
        "  return sentence,fij,flipij,hypij"
      ],
      "execution_count": 16,
      "outputs": []
    },
    {
      "cell_type": "markdown",
      "metadata": {
        "id": "_apcmg-Tzgge"
      },
      "source": [
        "Import the restaurant review dataset"
      ]
    },
    {
      "cell_type": "code",
      "metadata": {
        "id": "WnybItixV09O"
      },
      "source": [
        "dataset = pd.read_csv('Restaurant_Reviews.tsv', delimiter = '\\t', quoting = 3)"
      ],
      "execution_count": 17,
      "outputs": []
    },
    {
      "cell_type": "markdown",
      "metadata": {
        "id": "riFfB19azpIU"
      },
      "source": [
        "Preprocessing the text"
      ]
    },
    {
      "cell_type": "code",
      "metadata": {
        "colab": {
          "base_uri": "https://localhost:8080/"
        },
        "id": "mEeWdM8mWQ8k",
        "outputId": "fca2ce86-1afa-4a5c-bd6b-c10115be0995"
      },
      "source": [
        "import re\n",
        "import nltk\n",
        "nltk.download('stopwords')\n",
        "nltk.download('punkt')\n",
        "from nltk.corpus import stopwords\n",
        "from nltk.stem.porter import PorterStemmer\n",
        "corpus = []\n",
        "corpus_tokenised=[]\n",
        "max_length = 0         # maximum length of the sentence in the dataset, required for padding\n",
        "###\n",
        "sentence='He was relaxed despite the danger'     # sentence of which sentiment has to be found\n",
        "###\n",
        "sentence = sentence.lower()        # lowercase\n",
        "sentence_tokenised=nltk.word_tokenize(sentence)       # tokenization\n",
        "sentence = re.sub('[^a-zA-Z]', ' ', sentence)\n",
        "sentence = sentence.split()\n",
        "ps = PorterStemmer()\n",
        "sentence = [ps.stem(word) for word in sentence if not word in set(stopwords.words('english'))]      # removal of stopwords\n",
        "sentence = ' '.join(sentence)\n",
        "for i in range(0, 1000):              # the same preprocessing for dataset sentences\n",
        "    review=dataset['Review'][i]\n",
        "    review = re.sub('[^a-zA-Z]', ' ', dataset['Review'][i])\n",
        "    review = review.lower()\n",
        "    review_tokenised=nltk.word_tokenize(review)\n",
        "    \n",
        "    review = review.split()\n",
        "    ps = PorterStemmer()\n",
        "    review = [ps.stem(word) for word in review if not word in set(stopwords.words('english'))]\n",
        "    review = ' '.join(review)\n",
        "    \n",
        "    max_length=max(max_length,len(review_tokenised))\n",
        "    corpus_tokenised.append(review_tokenised)\n",
        "    corpus.append(review)"
      ],
      "execution_count": 27,
      "outputs": [
        {
          "output_type": "stream",
          "text": [
            "[nltk_data] Downloading package stopwords to /root/nltk_data...\n",
            "[nltk_data]   Package stopwords is already up-to-date!\n",
            "[nltk_data] Downloading package punkt to /root/nltk_data...\n",
            "[nltk_data]   Package punkt is already up-to-date!\n"
          ],
          "name": "stdout"
        }
      ]
    },
    {
      "cell_type": "markdown",
      "metadata": {
        "id": "hRdDTGqp0HG2"
      },
      "source": [
        "Importing the bag of words vectorization module"
      ]
    },
    {
      "cell_type": "code",
      "metadata": {
        "id": "DywmM0agWTdD"
      },
      "source": [
        "from sklearn.feature_extraction.text import CountVectorizer\n",
        "cv = CountVectorizer(max_features = 1500)\n",
        "X = cv.fit_transform(corpus).toarray()\n",
        "y = dataset.iloc[:, 1].values\n",
        "new_X=[]"
      ],
      "execution_count": 19,
      "outputs": []
    },
    {
      "cell_type": "markdown",
      "metadata": {
        "id": "FLX5Zt680Rfn"
      },
      "source": [
        "appending the discourse features to the sentence vectors"
      ]
    },
    {
      "cell_type": "code",
      "metadata": {
        "id": "B09QWjwpqw1M"
      },
      "source": [
        "for key,l in enumerate(X):\n",
        "  wij,fij,flipij,hypij = discourse(corpus_tokenised[key])\n",
        "  row=X[key].tolist()\n",
        "  for i in range(max_length):\n",
        "    if(i<len(wij)):\n",
        "      row.append(fij[i])\n",
        "      row.append(flipij[i])\n",
        "      row.append(hypij[i])\n",
        "    else:                         #padding with zeros\n",
        "      row.append(0)\n",
        "      row.append(0)\n",
        "      row.append(0)  \n",
        "  new_X.append(row)    "
      ],
      "execution_count": 20,
      "outputs": []
    },
    {
      "cell_type": "markdown",
      "metadata": {
        "id": "w76Fi6o70TM1"
      },
      "source": [
        "Splitting into train and test"
      ]
    },
    {
      "cell_type": "code",
      "metadata": {
        "id": "XTDe3ZzMZOqZ"
      },
      "source": [
        "from sklearn.model_selection import train_test_split\n",
        "X_train, X_test, y_train, y_test = train_test_split(new_X, y, test_size = 0.1, random_state = 0)\n"
      ],
      "execution_count": 21,
      "outputs": []
    },
    {
      "cell_type": "markdown",
      "metadata": {
        "id": "oqdHZ0Ur0Wc2"
      },
      "source": [
        "Adding few manually labelled sentences containing discourse relations due to unavailability of the discourse dataset"
      ]
    },
    {
      "cell_type": "code",
      "metadata": {
        "id": "byGdi7I8OhXG"
      },
      "source": [
        "sentence_list_discourse = ['I am quite excited about Tintin despite not really liking the original comics',\n",
        "                           'If Micromax improved its battery life, it would have been a great product',\n",
        "                           'My daughter is off school very poorly but brightened up when we saw you on television today',\n",
        "                           'I do not like this house',\n",
        "                           'I was feeling happy throughout the day until I saw my marks which made me upset',\n",
        "                           'Rohan was very angry with his performance in spite of being the winner of the tournament',\n",
        "                           'You should be ashamed of yourself',\n",
        "                           'Tomorrow might be a better day for us',\n",
        "                           'Ram misbehaved with his boss and as a result, he lost his job',\n",
        "                           'You had no real knowledge and therefore no way to make a wise decision',\n",
        "                           'He gave his best effort yet failed in completing the task',\n",
        "                           'Rahul was never rude to anyone',\n",
        "                           'I was filled with joy until I heard about the sad news of him passing away despite being so young and active']\n",
        "                        \n",
        "label_list_discourse = [1,\n",
        "                        1,\n",
        "                        1,\n",
        "                        0,\n",
        "                        0,\n",
        "                        0,\n",
        "                        0,\n",
        "                        1,\n",
        "                        0,\n",
        "                        0,\n",
        "                        0,\n",
        "                        1,\n",
        "                        0]"
      ],
      "execution_count": 22,
      "outputs": []
    },
    {
      "cell_type": "code",
      "metadata": {
        "id": "NWr8GG3XOr_U"
      },
      "source": [
        "y_train=y_train.tolist()\n",
        "for sent in sentence_list_discourse:              #appending the above sentences into to the training set\n",
        "  rv=cv.transform([sent]).toarray()\n",
        "  rv=rv.tolist()\n",
        "  wij,fij,flipij,hypij = discourse(sent)\n",
        "  for i in range(max_length):\n",
        "    if(i<len(wij)):\n",
        "      rv[0].append(fij[i])\n",
        "      rv[0].append(flipij[i])\n",
        "      rv[0].append(hypij[i])\n",
        "    else:\n",
        "      rv[0].append(0)\n",
        "      rv[0].append(0)\n",
        "      rv[0].append(0)\n",
        "  X_train.append(rv[0])\n",
        "\n",
        "for label in label_list_discourse:\n",
        "  y_train.append(label) \n"
      ],
      "execution_count": 23,
      "outputs": []
    },
    {
      "cell_type": "markdown",
      "metadata": {
        "id": "WtjLrn620nGw"
      },
      "source": [
        "Using SVM to train the model"
      ]
    },
    {
      "cell_type": "code",
      "metadata": {
        "colab": {
          "base_uri": "https://localhost:8080/"
        },
        "id": "mwhhg56CYa8d",
        "outputId": "7b7770ea-2551-4f62-f04f-6a24d3cca075"
      },
      "source": [
        "import time\n",
        "from sklearn import svm\n",
        "from sklearn.metrics import classification_report\n",
        "classifier_linear = svm.SVC(kernel='linear',probability=True)\n",
        "t0 = time.time()\n",
        "classifier_linear.fit(X_train, y_train)\n",
        "t1 = time.time()\n",
        "prediction_linear = classifier_linear.predict(X_test)\n",
        "prob = classifier_linear.predict_proba(X_test)\n",
        "#print(prob)\n",
        "#print(prediction_linear)\n",
        "t2 = time.time()\n",
        "time_linear_train = t1-t0\n",
        "time_linear_predict = t2-t1\n",
        "# results\n",
        "print(\"Training time: %fs; Prediction time: %fs\" % (time_linear_train, time_linear_predict))\n",
        "report = classification_report(y_test, prediction_linear, output_dict=True)\n",
        "print('positive: ', report['1'])\n",
        "print('negative: ', report['0'])"
      ],
      "execution_count": 24,
      "outputs": [
        {
          "output_type": "stream",
          "text": [
            "Training time: 7.235210s; Prediction time: 0.252825s\n",
            "positive:  {'precision': 0.7450980392156863, 'recall': 0.7755102040816326, 'f1-score': 0.76, 'support': 49}\n",
            "negative:  {'precision': 0.7755102040816326, 'recall': 0.7450980392156863, 'f1-score': 0.76, 'support': 51}\n"
          ],
          "name": "stdout"
        }
      ]
    },
    {
      "cell_type": "code",
      "metadata": {
        "id": "zquKLAHgeavA"
      },
      "source": [
        "review_vector = cv.transform([sentence]).toarray()                        #vectorising the test sentence\n",
        "review_vector=review_vector.tolist()\n",
        "wij,fij,flipij,hypij = discourse(sentence_tokenised)                      # adding discourse features\n",
        "for i in range(max_length):\n",
        "    if(i<len(wij)):\n",
        "      review_vector[0].append(fij[i])\n",
        "      review_vector[0].append(flipij[i])\n",
        "      review_vector[0].append(hypij[i])\n",
        "    else:\n",
        "      review_vector[0].append(0)\n",
        "      review_vector[0].append(0)\n",
        "      review_vector[0].append(0)"
      ],
      "execution_count": 28,
      "outputs": []
    },
    {
      "cell_type": "code",
      "metadata": {
        "colab": {
          "base_uri": "https://localhost:8080/"
        },
        "id": "lUR_0QyheoJY",
        "outputId": "e79fdb85-baae-4e48-cdd4-b2e576e825cc"
      },
      "source": [
        "print(classifier_linear.predict(review_vector))                       # predicting the sentiment. 0 is negative and 1 is positive\n",
        "print(classifier_linear.predict_proba(review_vector))                 # probability for each prediction. The first element depicts probabiltity for negative sentiment"
      ],
      "execution_count": 29,
      "outputs": [
        {
          "output_type": "stream",
          "text": [
            "[0]\n",
            "[[0.50758284 0.49241716]]\n"
          ],
          "name": "stdout"
        }
      ]
    }
  ]
}